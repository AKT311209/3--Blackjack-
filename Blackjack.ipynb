{
 "cells": [
  {
   "cell_type": "code",
   "execution_count": 8,
   "metadata": {},
   "outputs": [
    {
     "data": {
      "text/plain": [
       "0"
      ]
     },
     "execution_count": 8,
     "metadata": {},
     "output_type": "execute_result"
    }
   ],
   "source": [
    "import random\n",
    "random.choice((1, 0, 0,0))"
   ]
  },
  {
   "cell_type": "code",
   "execution_count": 9,
   "metadata": {},
   "outputs": [],
   "source": [
    "def myfunc():\n",
    "    while True:\n",
    "        return 'Hi'\n",
    "        print('1')"
   ]
  },
  {
   "cell_type": "code",
   "execution_count": 10,
   "metadata": {},
   "outputs": [
    {
     "data": {
      "text/plain": [
       "'Hi'"
      ]
     },
     "execution_count": 10,
     "metadata": {},
     "output_type": "execute_result"
    }
   ],
   "source": [
    "myfunc()"
   ]
  },
  {
   "cell_type": "code",
   "execution_count": 11,
   "metadata": {},
   "outputs": [
    {
     "name": "stdout",
     "output_type": "stream",
     "text": [
      "nt\n"
     ]
    }
   ],
   "source": [
    "import os\n",
    "print(os.name)"
   ]
  },
  {
   "cell_type": "code",
   "execution_count": 13,
   "metadata": {},
   "outputs": [],
   "source": [
    "class Deck():\n",
    "    \"\"\" This is the class for a new deck \"\"\"\n",
    "\n",
    "    def __init__(self):\n",
    "        self.all_cards = []\n",
    "        for cardsuit in suits:\n",
    "            for cardrank in ranks:\n",
    "                new_cards = Cards(cardsuit, cardrank)\n",
    "                self.all_cards.append(new_cards)\n",
    "        self.shuffle()\n",
    "\n",
    "    def draw(self):\n",
    "        \"\"\" This method is for drawing cards \"\"\"\n",
    "        return self.all_cards.pop(0)\n",
    "\n",
    "    def shuffle(self):\n",
    "        \"\"\" This method is for shuffling the starting Deck \"\"\"\n",
    "        random.shuffle(self.all_cards)\n",
    "\n",
    "\n",
    "class Cards():\n",
    "    \"\"\" This is the  class for cards\"\"\"\n",
    "\n",
    "    def __init__(self, suit, rank):\n",
    "        self.suit = suit\n",
    "        self.rank = rank\n",
    "        self.value = values[rank]\n",
    "\n",
    "    def __str__(self):\n",
    "        return f'{self.rank} of {self.suit}'\n",
    "\n",
    "\n",
    "values = {'Two': 2, 'Three': 3, 'Four': 4, 'Five': 5, 'Six': 6, 'Seven': 7, 'Eight': 8,\n",
    "          'Nine': 9, 'Ten': 10, 'Jack': 10, 'Queen': 10, 'King': 10, 'Ace': 11}\n",
    "suits = ['Hearts', 'Diamonds', 'Spades', 'Clubs']\n",
    "ranks = ['Two', 'Three', 'Four', 'Five', 'Six', 'Seven',\n",
    "         'Eight', 'Nine', 'Ten', 'Jack', 'Queen', 'King', 'Ace']"
   ]
  },
  {
   "cell_type": "code",
   "execution_count": 14,
   "metadata": {},
   "outputs": [],
   "source": [
    "newpile = Deck()"
   ]
  },
  {
   "cell_type": "code",
   "execution_count": 17,
   "metadata": {},
   "outputs": [
    {
     "name": "stdout",
     "output_type": "stream",
     "text": [
      "1. Three of Clubs\n",
      "2. Five of Clubs\n",
      "3. Four of Spades\n",
      "4. Six of Clubs\n",
      "5. Two of Hearts\n",
      "6. Eight of Spades\n",
      "7. Seven of Clubs\n",
      "8. Seven of Diamonds\n",
      "9. Three of Hearts\n",
      "10. Ten of Diamonds\n",
      "11. Queen of Diamonds\n",
      "12. Two of Clubs\n",
      "13. Six of Hearts\n",
      "14. Ten of Spades\n",
      "15. Five of Hearts\n",
      "16. Five of Diamonds\n",
      "17. Ace of Clubs\n",
      "18. Four of Clubs\n",
      "19. Nine of Hearts\n",
      "20. Ace of Spades\n",
      "21. Five of Spades\n",
      "22. Two of Spades\n",
      "23. Queen of Spades\n",
      "24. Queen of Clubs\n",
      "25. Six of Spades\n",
      "26. Six of Diamonds\n",
      "27. Jack of Diamonds\n",
      "28. King of Diamonds\n",
      "29. King of Clubs\n",
      "30. Seven of Spades\n",
      "31. Eight of Clubs\n",
      "32. Eight of Hearts\n",
      "33. Four of Hearts\n",
      "34. Four of Diamonds\n",
      "35. Seven of Hearts\n",
      "36. King of Spades\n",
      "37. Nine of Diamonds\n",
      "38. Three of Diamonds\n",
      "39. Three of Spades\n",
      "40. Eight of Diamonds\n",
      "41. King of Hearts\n",
      "42. Jack of Clubs\n",
      "43. Nine of Clubs\n",
      "44. Ace of Diamonds\n",
      "45. Queen of Hearts\n",
      "46. Ace of Hearts\n",
      "47. Ten of Hearts\n",
      "48. Jack of Hearts\n",
      "49. Jack of Spades\n",
      "50. Ten of Clubs\n",
      "51. Nine of Spades\n",
      "52. Two of Diamonds\n"
     ]
    }
   ],
   "source": [
    "for num, card in enumerate(newpile.all_cards, 1):\n",
    "    print(f'{num}. {card}')"
   ]
  },
  {
   "cell_type": "code",
   "execution_count": 19,
   "metadata": {},
   "outputs": [
    {
     "data": {
      "text/plain": [
       "0"
      ]
     },
     "execution_count": 19,
     "metadata": {},
     "output_type": "execute_result"
    }
   ],
   "source": [
    "random.choice([1, 1, 0])"
   ]
  },
  {
   "cell_type": "code",
   "execution_count": 20,
   "metadata": {},
   "outputs": [
    {
     "name": "stdout",
     "output_type": "stream",
     "text": [
      "hi\n"
     ]
    }
   ],
   "source": [
    "print('hi')"
   ]
  },
  {
   "cell_type": "code",
   "execution_count": null,
   "metadata": {},
   "outputs": [],
   "source": []
  }
 ],
 "metadata": {
  "kernelspec": {
   "display_name": "Python 3",
   "language": "python",
   "name": "python3"
  },
  "language_info": {
   "codemirror_mode": {
    "name": "ipython",
    "version": 3
   },
   "file_extension": ".py",
   "mimetype": "text/x-python",
   "name": "python",
   "nbconvert_exporter": "python",
   "pygments_lexer": "ipython3",
   "version": "3.12.4"
  }
 },
 "nbformat": 4,
 "nbformat_minor": 2
}
